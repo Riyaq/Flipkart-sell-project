{
 "cells": [
  {
   "cell_type": "code",
   "execution_count": 0,
   "metadata": {
    "application/vnd.databricks.v1+cell": {
     "cellMetadata": {
      "byteLimit": 2048000,
      "rowLimit": 10000
     },
     "collapsed": true,
     "inputWidgets": {},
     "nuid": "e6fd42a0-57b2-47e7-9cd4-ccc1b98896b0",
     "showTitle": false,
     "tableResultSettingsMap": {},
     "title": ""
    }
   },
   "outputs": [
    {
     "output_type": "display_data",
     "data": {
      "text/html": [
       "\n",
       "            <div>\n",
       "                <p><b>SparkSession - hive</b></p>\n",
       "                \n",
       "        <div>\n",
       "            <p><b>SparkContext</b></p>\n",
       "\n",
       "            <p><a href=\"/?o=2105747148377113#setting/sparkui/1108-174014-tglonqq6/driver-3377013941131500479\">Spark UI</a></p>\n",
       "\n",
       "            <dl>\n",
       "              <dt>Version</dt>\n",
       "                <dd><code>v3.3.2</code></dd>\n",
       "              <dt>Master</dt>\n",
       "                <dd><code>local[8]</code></dd>\n",
       "              <dt>AppName</dt>\n",
       "                <dd><code>Databricks Shell</code></dd>\n",
       "            </dl>\n",
       "        </div>\n",
       "        \n",
       "            </div>\n",
       "        "
      ]
     },
     "metadata": {
      "application/vnd.databricks.v1+output": {
       "addedWidgets": {},
       "arguments": {},
       "data": "\n            <div>\n                <p><b>SparkSession - hive</b></p>\n                \n        <div>\n            <p><b>SparkContext</b></p>\n\n            <p><a href=\"/?o=2105747148377113#setting/sparkui/1108-174014-tglonqq6/driver-3377013941131500479\">Spark UI</a></p>\n\n            <dl>\n              <dt>Version</dt>\n                <dd><code>v3.3.2</code></dd>\n              <dt>Master</dt>\n                <dd><code>local[8]</code></dd>\n              <dt>AppName</dt>\n                <dd><code>Databricks Shell</code></dd>\n            </dl>\n        </div>\n        \n            </div>\n        ",
       "datasetInfos": [],
       "metadata": {},
       "removedWidgets": [],
       "textData": null,
       "type": "htmlSandbox"
      }
     },
     "output_type": "display_data"
    }
   ],
   "source": [
    "spark"
   ]
  },
  {
   "cell_type": "code",
   "execution_count": 0,
   "metadata": {
    "application/vnd.databricks.v1+cell": {
     "cellMetadata": {
      "byteLimit": 2048000,
      "rowLimit": 10000
     },
     "inputWidgets": {},
     "nuid": "984aa620-f70c-4eff-8cb5-19b08d5976f8",
     "showTitle": false,
     "tableResultSettingsMap": {},
     "title": ""
    }
   },
   "outputs": [],
   "source": [
    "from pyspark.sql.types import StructField,StringType\n",
    "from pyspark.sql.functions import *\n",
    "from pyspark.sql.types import *\n",
    "#from pyspark.sql.functions import isnan, when, count, col"
   ]
  },
  {
   "cell_type": "code",
   "execution_count": 0,
   "metadata": {
    "application/vnd.databricks.v1+cell": {
     "cellMetadata": {
      "byteLimit": 2048000,
      "rowLimit": 10000
     },
     "inputWidgets": {},
     "nuid": "e6bd8509-aad9-4260-91e4-d637234f3537",
     "showTitle": false,
     "tableResultSettingsMap": {},
     "title": ""
    }
   },
   "outputs": [
    {
     "output_type": "display_data",
     "data": {
      "text/html": [
       "<style scoped>\n",
       "  .table-result-container {\n",
       "    max-height: 300px;\n",
       "    overflow: auto;\n",
       "  }\n",
       "  table, th, td {\n",
       "    border: 1px solid black;\n",
       "    border-collapse: collapse;\n",
       "  }\n",
       "  th, td {\n",
       "    padding: 5px;\n",
       "  }\n",
       "  th {\n",
       "    text-align: left;\n",
       "  }\n",
       "</style><div class='table-result-container'><table class='table-result'><thead style='background-color: white'><tr><th>id</th><th>title</th><th>Rating</th><th>maincateg</th><th>platform</th><th>actprice1</th><th>norating1</th><th>noreviews1</th><th>star_5f</th><th>star_4f</th><th>star_3f</th><th>star_2f</th><th>star_1f</th><th>fulfilled1</th></tr></thead><tbody><tr><td>2242</td><td>Casuals For Men  (Blue)</td><td>3.8</td><td>Men</td><td>Flipkart</td><td>999</td><td>27928</td><td>3543</td><td>14238</td><td>4295</td><td>3457</td><td>1962</td><td>3976</td><td>1</td></tr><tr><td>20532</td><td>Women Black Flats Sandal</td><td>3.9</td><td>Women</td><td>Flipkart</td><td>499</td><td>3015</td><td>404</td><td>1458</td><td>657</td><td>397</td><td>182</td><td>321</td><td>1</td></tr><tr><td>10648</td><td>Women Gold Wedges Sandal</td><td>3.9</td><td>Women</td><td>Flipkart</td><td>999</td><td>449</td><td>52</td><td>229</td><td>70</td><td>71</td><td>33</td><td>46</td><td>1</td></tr><tr><td>20677</td><td>Men's Height Increasing High Heel Formal Party Wear Slip-on Boots Slip On For Men  (Tan)</td><td>3.9</td><td>Men</td><td>Flipkart</td><td>2999</td><td>290</td><td>40</td><td>141</td><td>51</td><td>49</td><td>17</td><td>32</td><td>1</td></tr><tr><td>12593</td><td>Loafers For Men  (Tan)</td><td>3.9</td><td>Men</td><td>Flipkart</td><td>999</td><td>2423</td><td>326</td><td>1265</td><td>414</td><td>293</td><td>143</td><td>308</td><td>0</td></tr><tr><td>11159</td><td>Canvas Shoes For Men  (Black)</td><td>3.9</td><td>Men</td><td>Flipkart</td><td>999</td><td>541</td><td>72</td><td>281</td><td>104</td><td>69</td><td>17</td><td>70</td><td>0</td></tr><tr><td>10680</td><td>Combo Pack Of 2 Casual Shoes Slip On Sneakers For Men  (Blue, Grey)</td><td>3.9</td><td>Men</td><td>Flipkart</td><td>2400</td><td>824</td><td>105</td><td>386</td><td>199</td><td>106</td><td>61</td><td>72</td><td>1</td></tr><tr><td>6433</td><td>ARYA - DIFFERENT EDGE Bellies For Women  (Purple)</td><td>4.2</td><td>Women</td><td>Flipkart</td><td>4299</td><td>166</td><td>24</td><td>94</td><td>39</td><td>12</td><td>6</td><td>15</td><td>1</td></tr><tr><td>2794</td><td>Latest Collection, Comfortable & Fashionable Bellies for Women's and Girl's Pack of 1 Bellies For Women  (Pink, Grey)</td><td>3.9</td><td>Women</td><td>Flipkart</td><td>499</td><td>1816</td><td>218</td><td>899</td><td>360</td><td>239</td><td>113</td><td>208</td><td>0</td></tr><tr><td>11579</td><td>MOCCASSIN Slip On For Men  (Black)</td><td>3.8</td><td>Men</td><td>Flipkart</td><td>2299</td><td>3066</td><td>392</td><td>1304</td><td>803</td><td>462</td><td>189</td><td>308</td><td>1</td></tr></tbody></table></div>"
      ]
     },
     "metadata": {
      "application/vnd.databricks.v1+output": {
       "addedWidgets": {},
       "aggData": [],
       "aggError": "",
       "aggOverflow": false,
       "aggSchema": [],
       "aggSeriesLimitReached": false,
       "aggType": "",
       "arguments": {},
       "columnCustomDisplayInfos": {},
       "data": [
        [
         "2242",
         "Casuals For Men  (Blue)",
         "3.8",
         "Men",
         "Flipkart",
         "999",
         "27928",
         "3543",
         "14238",
         "4295",
         "3457",
         "1962",
         "3976",
         "1"
        ],
        [
         "20532",
         "Women Black Flats Sandal",
         "3.9",
         "Women",
         "Flipkart",
         "499",
         "3015",
         "404",
         "1458",
         "657",
         "397",
         "182",
         "321",
         "1"
        ],
        [
         "10648",
         "Women Gold Wedges Sandal",
         "3.9",
         "Women",
         "Flipkart",
         "999",
         "449",
         "52",
         "229",
         "70",
         "71",
         "33",
         "46",
         "1"
        ],
        [
         "20677",
         "Men's Height Increasing High Heel Formal Party Wear Slip-on Boots Slip On For Men  (Tan)",
         "3.9",
         "Men",
         "Flipkart",
         "2999",
         "290",
         "40",
         "141",
         "51",
         "49",
         "17",
         "32",
         "1"
        ],
        [
         "12593",
         "Loafers For Men  (Tan)",
         "3.9",
         "Men",
         "Flipkart",
         "999",
         "2423",
         "326",
         "1265",
         "414",
         "293",
         "143",
         "308",
         "0"
        ],
        [
         "11159",
         "Canvas Shoes For Men  (Black)",
         "3.9",
         "Men",
         "Flipkart",
         "999",
         "541",
         "72",
         "281",
         "104",
         "69",
         "17",
         "70",
         "0"
        ],
        [
         "10680",
         "Combo Pack Of 2 Casual Shoes Slip On Sneakers For Men  (Blue, Grey)",
         "3.9",
         "Men",
         "Flipkart",
         "2400",
         "824",
         "105",
         "386",
         "199",
         "106",
         "61",
         "72",
         "1"
        ],
        [
         "6433",
         "ARYA - DIFFERENT EDGE Bellies For Women  (Purple)",
         "4.2",
         "Women",
         "Flipkart",
         "4299",
         "166",
         "24",
         "94",
         "39",
         "12",
         "6",
         "15",
         "1"
        ],
        [
         "2794",
         "Latest Collection, Comfortable & Fashionable Bellies for Women's and Girl's Pack of 1 Bellies For Women  (Pink, Grey)",
         "3.9",
         "Women",
         "Flipkart",
         "499",
         "1816",
         "218",
         "899",
         "360",
         "239",
         "113",
         "208",
         "0"
        ],
        [
         "11579",
         "MOCCASSIN Slip On For Men  (Black)",
         "3.8",
         "Men",
         "Flipkart",
         "2299",
         "3066",
         "392",
         "1304",
         "803",
         "462",
         "189",
         "308",
         "1"
        ]
       ],
       "datasetInfos": [],
       "dbfsResultPath": null,
       "isJsonSchema": true,
       "metadata": {},
       "overflow": false,
       "plotOptions": {
        "customPlotOptions": {},
        "displayType": "table",
        "pivotAggregation": null,
        "pivotColumns": null,
        "xColumns": null,
        "yColumns": null
       },
       "removedWidgets": [],
       "schema": [
        {
         "metadata": "{}",
         "name": "id",
         "type": "\"string\""
        },
        {
         "metadata": "{}",
         "name": "title",
         "type": "\"string\""
        },
        {
         "metadata": "{}",
         "name": "Rating",
         "type": "\"string\""
        },
        {
         "metadata": "{}",
         "name": "maincateg",
         "type": "\"string\""
        },
        {
         "metadata": "{}",
         "name": "platform",
         "type": "\"string\""
        },
        {
         "metadata": "{}",
         "name": "actprice1",
         "type": "\"string\""
        },
        {
         "metadata": "{}",
         "name": "norating1",
         "type": "\"string\""
        },
        {
         "metadata": "{}",
         "name": "noreviews1",
         "type": "\"string\""
        },
        {
         "metadata": "{}",
         "name": "star_5f",
         "type": "\"string\""
        },
        {
         "metadata": "{}",
         "name": "star_4f",
         "type": "\"string\""
        },
        {
         "metadata": "{}",
         "name": "star_3f",
         "type": "\"string\""
        },
        {
         "metadata": "{}",
         "name": "star_2f",
         "type": "\"string\""
        },
        {
         "metadata": "{}",
         "name": "star_1f",
         "type": "\"string\""
        },
        {
         "metadata": "{}",
         "name": "fulfilled1",
         "type": "\"string\""
        }
       ],
       "type": "table"
      }
     },
     "output_type": "display_data"
    }
   ],
   "source": [
    "# File location and type\n",
    "file_location = \"/FileStore/tables/test.csv\"\n",
    "file_type = \"csv\"\n",
    "\n",
    "# CSV options\n",
    "infer_schema = \"false\"\n",
    "first_row_is_header = \"false\"\n",
    "delimiter = \",\"\n",
    "\n",
    "# The applied options are for CSV files. For other file types, these will be ignored.\n",
    "Flipkart_df = spark.read.format(file_type) \\\n",
    "  .option(\"inferSchema\", infer_schema) \\\n",
    "  .option(\"header\", True) \\\n",
    "  .option(\"sep\", delimiter) \\\n",
    "  .load(file_location)\n",
    "# limit(10) to get only 10 output instead whole sheet.\n",
    "Flipkart_df.limit(10).display()"
   ]
  },
  {
   "cell_type": "code",
   "execution_count": 0,
   "metadata": {
    "application/vnd.databricks.v1+cell": {
     "cellMetadata": {
      "byteLimit": 2048000,
      "rowLimit": 10000
     },
     "inputWidgets": {},
     "nuid": "257ea90b-e3a9-427c-995a-fc06669ce2b8",
     "showTitle": false,
     "tableResultSettingsMap": {},
     "title": ""
    }
   },
   "outputs": [
    {
     "output_type": "stream",
     "name": "stdout",
     "output_type": "stream",
     "text": [
      "root\n |-- id: string (nullable = true)\n |-- title: string (nullable = true)\n |-- Rating: string (nullable = true)\n |-- maincateg: string (nullable = true)\n |-- platform: string (nullable = true)\n |-- actprice1: string (nullable = true)\n |-- norating1: string (nullable = true)\n |-- noreviews1: string (nullable = true)\n |-- star_5f: string (nullable = true)\n |-- star_4f: string (nullable = true)\n |-- star_3f: string (nullable = true)\n |-- star_2f: string (nullable = true)\n |-- star_1f: string (nullable = true)\n |-- fulfilled1: string (nullable = true)\n\n"
     ]
    }
   ],
   "source": [
    "#Checking the Schema\n",
    "Flipkart_df.printSchema()\n",
    "#Flipkart_df.describe().show()"
   ]
  },
  {
   "cell_type": "code",
   "execution_count": 0,
   "metadata": {
    "application/vnd.databricks.v1+cell": {
     "cellMetadata": {
      "byteLimit": 2048000,
      "rowLimit": 10000
     },
     "inputWidgets": {},
     "nuid": "042709dc-4c3b-4d75-ba4e-8a97f8053ad6",
     "showTitle": false,
     "tableResultSettingsMap": {},
     "title": ""
    }
   },
   "outputs": [
    {
     "output_type": "display_data",
     "data": {
      "text/html": [
       "<style scoped>\n",
       "  .table-result-container {\n",
       "    max-height: 300px;\n",
       "    overflow: auto;\n",
       "  }\n",
       "  table, th, td {\n",
       "    border: 1px solid black;\n",
       "    border-collapse: collapse;\n",
       "  }\n",
       "  th, td {\n",
       "    padding: 5px;\n",
       "  }\n",
       "  th {\n",
       "    text-align: left;\n",
       "  }\n",
       "</style><div class='table-result-container'><table class='table-result'><thead style='background-color: white'><tr><th>id</th><th>title</th><th>Rating</th><th>maincateg</th><th>platform</th><th>actprice1</th><th>norating1</th><th>noreviews1</th><th>star_5f</th><th>star_4f</th><th>star_3f</th><th>star_2f</th><th>star_1f</th><th>fulfilled1</th></tr></thead><tbody><tr><td>0</td><td>0</td><td>203</td><td>67</td><td>0</td><td>0</td><td>0</td><td>0</td><td>68</td><td>0</td><td>0</td><td>0</td><td>186</td><td>0</td></tr></tbody></table></div>"
      ]
     },
     "metadata": {
      "application/vnd.databricks.v1+output": {
       "addedWidgets": {},
       "aggData": [],
       "aggError": "",
       "aggOverflow": false,
       "aggSchema": [],
       "aggSeriesLimitReached": false,
       "aggType": "",
       "arguments": {},
       "columnCustomDisplayInfos": {},
       "data": [
        [
         0,
         0,
         203,
         67,
         0,
         0,
         0,
         0,
         68,
         0,
         0,
         0,
         186,
         0
        ]
       ],
       "datasetInfos": [],
       "dbfsResultPath": null,
       "isJsonSchema": true,
       "metadata": {},
       "overflow": false,
       "plotOptions": {
        "customPlotOptions": {},
        "displayType": "table",
        "pivotAggregation": null,
        "pivotColumns": null,
        "xColumns": null,
        "yColumns": null
       },
       "removedWidgets": [],
       "schema": [
        {
         "metadata": "{}",
         "name": "id",
         "type": "\"long\""
        },
        {
         "metadata": "{}",
         "name": "title",
         "type": "\"long\""
        },
        {
         "metadata": "{}",
         "name": "Rating",
         "type": "\"long\""
        },
        {
         "metadata": "{}",
         "name": "maincateg",
         "type": "\"long\""
        },
        {
         "metadata": "{}",
         "name": "platform",
         "type": "\"long\""
        },
        {
         "metadata": "{}",
         "name": "actprice1",
         "type": "\"long\""
        },
        {
         "metadata": "{}",
         "name": "norating1",
         "type": "\"long\""
        },
        {
         "metadata": "{}",
         "name": "noreviews1",
         "type": "\"long\""
        },
        {
         "metadata": "{}",
         "name": "star_5f",
         "type": "\"long\""
        },
        {
         "metadata": "{}",
         "name": "star_4f",
         "type": "\"long\""
        },
        {
         "metadata": "{}",
         "name": "star_3f",
         "type": "\"long\""
        },
        {
         "metadata": "{}",
         "name": "star_2f",
         "type": "\"long\""
        },
        {
         "metadata": "{}",
         "name": "star_1f",
         "type": "\"long\""
        },
        {
         "metadata": "{}",
         "name": "fulfilled1",
         "type": "\"long\""
        }
       ],
       "type": "table"
      }
     },
     "output_type": "display_data"
    }
   ],
   "source": [
    "#Handling the missing Data by creating a list\n",
    "Flipkart_df.select([count(when(col(c).isNull(), c)).alias(c) for c in Flipkart_df.columns]).display()\n",
    "\n"
   ]
  },
  {
   "cell_type": "code",
   "execution_count": 0,
   "metadata": {
    "application/vnd.databricks.v1+cell": {
     "cellMetadata": {
      "byteLimit": 2048000,
      "rowLimit": 10000
     },
     "inputWidgets": {},
     "nuid": "11fbb14a-c1b5-4a82-906d-302f9870a667",
     "showTitle": false,
     "tableResultSettingsMap": {},
     "title": ""
    }
   },
   "outputs": [],
   "source": [
    "#Drop the row that is missing/null values\n",
    "Flipkart_df_clean=Flipkart_df.dropna()"
   ]
  },
  {
   "cell_type": "code",
   "execution_count": 0,
   "metadata": {
    "application/vnd.databricks.v1+cell": {
     "cellMetadata": {
      "byteLimit": 2048000,
      "rowLimit": 10000
     },
     "inputWidgets": {},
     "nuid": "13c43582-cb82-4db3-93aa-2f811bf7ff5a",
     "showTitle": false,
     "tableResultSettingsMap": {},
     "title": ""
    }
   },
   "outputs": [
    {
     "output_type": "stream",
     "name": "stdout",
     "output_type": "stream",
     "text": [
      "root\n |-- id: string (nullable = true)\n |-- title: string (nullable = true)\n |-- Rating: double (nullable = true)\n |-- maincateg: string (nullable = true)\n |-- platform: string (nullable = true)\n |-- actprice1: string (nullable = true)\n |-- norating1: string (nullable = true)\n |-- noreviews1: string (nullable = true)\n |-- star_5f: string (nullable = true)\n |-- star_4f: string (nullable = true)\n |-- star_3f: string (nullable = true)\n |-- star_2f: string (nullable = true)\n |-- star_1f: string (nullable = true)\n |-- fulfilled1: string (nullable = true)\n\n"
     ]
    }
   ],
   "source": [
    "# Riting column datatype is string but here I am converting it to float before applying\n",
    "Changing_datatype_Rating = Flipkart_df_clean.withColumn(\"Rating\",  Flipkart_df_clean[\"Rating\"] .cast('double')) \n",
    "Changing_datatype_Rating.printSchema()"
   ]
  },
  {
   "cell_type": "code",
   "execution_count": 0,
   "metadata": {
    "application/vnd.databricks.v1+cell": {
     "cellMetadata": {
      "byteLimit": 2048000,
      "rowLimit": 10000
     },
     "inputWidgets": {},
     "nuid": "a540546c-1e21-4a58-8449-1b635ab6e07e",
     "showTitle": false,
     "tableResultSettingsMap": {},
     "title": ""
    }
   },
   "outputs": [
    {
     "output_type": "display_data",
     "data": {
      "text/html": [
       "<style scoped>\n",
       "  .table-result-container {\n",
       "    max-height: 300px;\n",
       "    overflow: auto;\n",
       "  }\n",
       "  table, th, td {\n",
       "    border: 1px solid black;\n",
       "    border-collapse: collapse;\n",
       "  }\n",
       "  th, td {\n",
       "    padding: 5px;\n",
       "  }\n",
       "  th {\n",
       "    text-align: left;\n",
       "  }\n",
       "</style><div class='table-result-container'><table class='table-result'><thead style='background-color: white'><tr><th>id</th><th>title</th><th>Rating</th><th>maincateg</th><th>platform</th><th>actprice1</th><th>norating1</th><th>noreviews1</th><th>star_5f</th><th>star_4f</th><th>star_3f</th><th>star_2f</th><th>star_1f</th><th>fulfilled1</th></tr></thead><tbody><tr><td>2242</td><td>Casuals For Men  (Blue)</td><td>3.8</td><td>Men</td><td>Flipkart</td><td>999</td><td>27928</td><td>3543</td><td>14238</td><td>4295</td><td>3457</td><td>1962</td><td>3976</td><td>1</td></tr><tr><td>20532</td><td>Women Black Flats Sandal</td><td>3.9</td><td>Women</td><td>Flipkart</td><td>499</td><td>3015</td><td>404</td><td>1458</td><td>657</td><td>397</td><td>182</td><td>321</td><td>1</td></tr><tr><td>10648</td><td>Women Gold Wedges Sandal</td><td>3.9</td><td>Women</td><td>Flipkart</td><td>999</td><td>449</td><td>52</td><td>229</td><td>70</td><td>71</td><td>33</td><td>46</td><td>1</td></tr><tr><td>20677</td><td>Men's Height Increasing High Heel Formal Party Wear Slip-on Boots Slip On For Men  (Tan)</td><td>3.9</td><td>Men</td><td>Flipkart</td><td>2999</td><td>290</td><td>40</td><td>141</td><td>51</td><td>49</td><td>17</td><td>32</td><td>1</td></tr><tr><td>12593</td><td>Loafers For Men  (Tan)</td><td>3.9</td><td>Men</td><td>Flipkart</td><td>999</td><td>2423</td><td>326</td><td>1265</td><td>414</td><td>293</td><td>143</td><td>308</td><td>0</td></tr><tr><td>11159</td><td>Canvas Shoes For Men  (Black)</td><td>3.9</td><td>Men</td><td>Flipkart</td><td>999</td><td>541</td><td>72</td><td>281</td><td>104</td><td>69</td><td>17</td><td>70</td><td>0</td></tr><tr><td>10680</td><td>Combo Pack Of 2 Casual Shoes Slip On Sneakers For Men  (Blue, Grey)</td><td>3.9</td><td>Men</td><td>Flipkart</td><td>2400</td><td>824</td><td>105</td><td>386</td><td>199</td><td>106</td><td>61</td><td>72</td><td>1</td></tr><tr><td>6433</td><td>ARYA - DIFFERENT EDGE Bellies For Women  (Purple)</td><td>4.2</td><td>Women</td><td>Flipkart</td><td>4299</td><td>166</td><td>24</td><td>94</td><td>39</td><td>12</td><td>6</td><td>15</td><td>1</td></tr><tr><td>2794</td><td>Latest Collection, Comfortable & Fashionable Bellies for Women's and Girl's Pack of 1 Bellies For Women  (Pink, Grey)</td><td>3.9</td><td>Women</td><td>Flipkart</td><td>499</td><td>1816</td><td>218</td><td>899</td><td>360</td><td>239</td><td>113</td><td>208</td><td>0</td></tr><tr><td>11579</td><td>MOCCASSIN Slip On For Men  (Black)</td><td>3.8</td><td>Men</td><td>Flipkart</td><td>2299</td><td>3066</td><td>392</td><td>1304</td><td>803</td><td>462</td><td>189</td><td>308</td><td>1</td></tr></tbody></table></div>"
      ]
     },
     "metadata": {
      "application/vnd.databricks.v1+output": {
       "addedWidgets": {},
       "aggData": [],
       "aggError": "",
       "aggOverflow": false,
       "aggSchema": [],
       "aggSeriesLimitReached": false,
       "aggType": "",
       "arguments": {},
       "columnCustomDisplayInfos": {},
       "data": [
        [
         "2242",
         "Casuals For Men  (Blue)",
         3.8,
         "Men",
         "Flipkart",
         "999",
         "27928",
         "3543",
         "14238",
         "4295",
         "3457",
         "1962",
         "3976",
         "1"
        ],
        [
         "20532",
         "Women Black Flats Sandal",
         3.9,
         "Women",
         "Flipkart",
         "499",
         "3015",
         "404",
         "1458",
         "657",
         "397",
         "182",
         "321",
         "1"
        ],
        [
         "10648",
         "Women Gold Wedges Sandal",
         3.9,
         "Women",
         "Flipkart",
         "999",
         "449",
         "52",
         "229",
         "70",
         "71",
         "33",
         "46",
         "1"
        ],
        [
         "20677",
         "Men's Height Increasing High Heel Formal Party Wear Slip-on Boots Slip On For Men  (Tan)",
         3.9,
         "Men",
         "Flipkart",
         "2999",
         "290",
         "40",
         "141",
         "51",
         "49",
         "17",
         "32",
         "1"
        ],
        [
         "12593",
         "Loafers For Men  (Tan)",
         3.9,
         "Men",
         "Flipkart",
         "999",
         "2423",
         "326",
         "1265",
         "414",
         "293",
         "143",
         "308",
         "0"
        ],
        [
         "11159",
         "Canvas Shoes For Men  (Black)",
         3.9,
         "Men",
         "Flipkart",
         "999",
         "541",
         "72",
         "281",
         "104",
         "69",
         "17",
         "70",
         "0"
        ],
        [
         "10680",
         "Combo Pack Of 2 Casual Shoes Slip On Sneakers For Men  (Blue, Grey)",
         3.9,
         "Men",
         "Flipkart",
         "2400",
         "824",
         "105",
         "386",
         "199",
         "106",
         "61",
         "72",
         "1"
        ],
        [
         "6433",
         "ARYA - DIFFERENT EDGE Bellies For Women  (Purple)",
         4.2,
         "Women",
         "Flipkart",
         "4299",
         "166",
         "24",
         "94",
         "39",
         "12",
         "6",
         "15",
         "1"
        ],
        [
         "2794",
         "Latest Collection, Comfortable & Fashionable Bellies for Women's and Girl's Pack of 1 Bellies For Women  (Pink, Grey)",
         3.9,
         "Women",
         "Flipkart",
         "499",
         "1816",
         "218",
         "899",
         "360",
         "239",
         "113",
         "208",
         "0"
        ],
        [
         "11579",
         "MOCCASSIN Slip On For Men  (Black)",
         3.8,
         "Men",
         "Flipkart",
         "2299",
         "3066",
         "392",
         "1304",
         "803",
         "462",
         "189",
         "308",
         "1"
        ]
       ],
       "datasetInfos": [],
       "dbfsResultPath": null,
       "isJsonSchema": true,
       "metadata": {},
       "overflow": false,
       "plotOptions": {
        "customPlotOptions": {},
        "displayType": "table",
        "pivotAggregation": null,
        "pivotColumns": null,
        "xColumns": null,
        "yColumns": null
       },
       "removedWidgets": [],
       "schema": [
        {
         "metadata": "{}",
         "name": "id",
         "type": "\"string\""
        },
        {
         "metadata": "{}",
         "name": "title",
         "type": "\"string\""
        },
        {
         "metadata": "{}",
         "name": "Rating",
         "type": "\"double\""
        },
        {
         "metadata": "{}",
         "name": "maincateg",
         "type": "\"string\""
        },
        {
         "metadata": "{}",
         "name": "platform",
         "type": "\"string\""
        },
        {
         "metadata": "{}",
         "name": "actprice1",
         "type": "\"string\""
        },
        {
         "metadata": "{}",
         "name": "norating1",
         "type": "\"string\""
        },
        {
         "metadata": "{}",
         "name": "noreviews1",
         "type": "\"string\""
        },
        {
         "metadata": "{}",
         "name": "star_5f",
         "type": "\"string\""
        },
        {
         "metadata": "{}",
         "name": "star_4f",
         "type": "\"string\""
        },
        {
         "metadata": "{}",
         "name": "star_3f",
         "type": "\"string\""
        },
        {
         "metadata": "{}",
         "name": "star_2f",
         "type": "\"string\""
        },
        {
         "metadata": "{}",
         "name": "star_1f",
         "type": "\"string\""
        },
        {
         "metadata": "{}",
         "name": "fulfilled1",
         "type": "\"string\""
        }
       ],
       "type": "table"
      }
     },
     "output_type": "display_data"
    }
   ],
   "source": [
    "#Filling specific value in the missing or Nan place in column / in Rating column where value is null set there 0.\n",
    "Flipkart_df_filled=Changing_datatype_Rating.fillna({\"Rating\":0})\n",
    "Flipkart_df_filled.display()\n",
    "#Flipkart_df_filled.limit(10).display()"
   ]
  },
  {
   "cell_type": "code",
   "execution_count": 0,
   "metadata": {
    "application/vnd.databricks.v1+cell": {
     "cellMetadata": {
      "byteLimit": 2048000,
      "rowLimit": 10000
     },
     "inputWidgets": {},
     "nuid": "8b938efe-60a3-4b16-a97b-a0868c019e82",
     "showTitle": false,
     "tableResultSettingsMap": {},
     "title": ""
    }
   },
   "outputs": [
    {
     "output_type": "display_data",
     "data": {
      "text/html": [
       "<style scoped>\n",
       "  .table-result-container {\n",
       "    max-height: 300px;\n",
       "    overflow: auto;\n",
       "  }\n",
       "  table, th, td {\n",
       "    border: 1px solid black;\n",
       "    border-collapse: collapse;\n",
       "  }\n",
       "  th, td {\n",
       "    padding: 5px;\n",
       "  }\n",
       "  th {\n",
       "    text-align: left;\n",
       "  }\n",
       "</style><div class='table-result-container'><table class='table-result'><thead style='background-color: white'><tr><th>id</th><th>title</th><th>Rating</th><th>maincateg</th><th>platform</th><th>actprice1</th><th>norating1</th><th>noreviews1</th><th>star_5f</th><th>star_4f</th><th>star_3f</th><th>star_2f</th><th>star_1f</th><th>fulfilled1</th></tr></thead><tbody><tr><td>6433</td><td>ARYA - DIFFERENT EDGE Bellies For Women  (Purple)</td><td>4.2</td><td>Women</td><td>Flipkart</td><td>4299</td><td>166</td><td>24</td><td>94</td><td>39</td><td>12</td><td>6</td><td>15</td><td>1</td></tr><tr><td>13859</td><td>Women Black Wedges Sandal</td><td>4.2</td><td>Women</td><td>Flipkart</td><td>279</td><td>3048</td><td>487</td><td>1746</td><td>679</td><td>348</td><td>114</td><td>161</td><td>1</td></tr><tr><td>19453</td><td>Denill Ankle Length Sneakers Sneakers For Women  (Pink)</td><td>4.1</td><td>Women</td><td>Flipkart</td><td>999</td><td>6806</td><td>961</td><td>3646</td><td>1508</td><td>810</td><td>335</td><td>510</td><td>1</td></tr><tr><td>8121</td><td>Women Grey Heels Sandal</td><td>4.2</td><td>Women</td><td>Flipkart</td><td>1990</td><td>16</td><td>1</td><td>10</td><td>2</td><td>1</td><td>3</td><td>0</td><td>1</td></tr><tr><td>9791</td><td>Pink Perfect Stylish Girls Casual Shoes Sneakers For Women  (Pink)</td><td>4.2</td><td>Women</td><td>Flipkart</td><td>999</td><td>509</td><td>73</td><td>288</td><td>106</td><td>61</td><td>17</td><td>37</td><td>1</td></tr><tr><td>7402</td><td>Concave 2 Wn s IDP Running Shoes For Women  (Purple)</td><td>4.3</td><td>Women</td><td>Flipkart</td><td>3999</td><td>367</td><td>47</td><td>206</td><td>108</td><td>30</td><td>6</td><td>18</td><td>1</td></tr><tr><td>3205</td><td>SFG-23 Slippers</td><td>4.1</td><td>Men</td><td>Flipkart</td><td>319</td><td>12936</td><td>1598</td><td>7030</td><td>2850</td><td>1453</td><td>587</td><td>1016</td><td>1</td></tr><tr><td>10607</td><td>Women Grey Sports Sandal</td><td>4.7</td><td>Women</td><td>Flipkart</td><td>1199</td><td>6</td><td>4</td><td>4</td><td>2</td><td>0</td><td>0</td><td>0</td><td>1</td></tr><tr><td>3659</td><td>Women Grey, Orange Sports Sandal</td><td>4.3</td><td>Women</td><td>Flipkart</td><td>799</td><td>212</td><td>41</td><td>123</td><td>59</td><td>12</td><td>9</td><td>9</td><td>1</td></tr><tr><td>7625</td><td>White casual, gym,training & Running shoes for men's Running Shoes For Men  (White)</td><td>4.2</td><td>Men</td><td>Flipkart</td><td>999</td><td>2430</td><td>381</td><td>1472</td><td>397</td><td>251</td><td>105</td><td>205</td><td>0</td></tr></tbody></table></div>"
      ]
     },
     "metadata": {
      "application/vnd.databricks.v1+output": {
       "addedWidgets": {},
       "aggData": [],
       "aggError": "",
       "aggOverflow": false,
       "aggSchema": [],
       "aggSeriesLimitReached": false,
       "aggType": "",
       "arguments": {},
       "columnCustomDisplayInfos": {},
       "data": [
        [
         "6433",
         "ARYA - DIFFERENT EDGE Bellies For Women  (Purple)",
         4.2,
         "Women",
         "Flipkart",
         "4299",
         "166",
         "24",
         "94",
         "39",
         "12",
         "6",
         "15",
         "1"
        ],
        [
         "13859",
         "Women Black Wedges Sandal",
         4.2,
         "Women",
         "Flipkart",
         "279",
         "3048",
         "487",
         "1746",
         "679",
         "348",
         "114",
         "161",
         "1"
        ],
        [
         "19453",
         "Denill Ankle Length Sneakers Sneakers For Women  (Pink)",
         4.1,
         "Women",
         "Flipkart",
         "999",
         "6806",
         "961",
         "3646",
         "1508",
         "810",
         "335",
         "510",
         "1"
        ],
        [
         "8121",
         "Women Grey Heels Sandal",
         4.2,
         "Women",
         "Flipkart",
         "1990",
         "16",
         "1",
         "10",
         "2",
         "1",
         "3",
         "0",
         "1"
        ],
        [
         "9791",
         "Pink Perfect Stylish Girls Casual Shoes Sneakers For Women  (Pink)",
         4.2,
         "Women",
         "Flipkart",
         "999",
         "509",
         "73",
         "288",
         "106",
         "61",
         "17",
         "37",
         "1"
        ],
        [
         "7402",
         "Concave 2 Wn s IDP Running Shoes For Women  (Purple)",
         4.3,
         "Women",
         "Flipkart",
         "3999",
         "367",
         "47",
         "206",
         "108",
         "30",
         "6",
         "18",
         "1"
        ],
        [
         "3205",
         "SFG-23 Slippers",
         4.1,
         "Men",
         "Flipkart",
         "319",
         "12936",
         "1598",
         "7030",
         "2850",
         "1453",
         "587",
         "1016",
         "1"
        ],
        [
         "10607",
         "Women Grey Sports Sandal",
         4.7,
         "Women",
         "Flipkart",
         "1199",
         "6",
         "4",
         "4",
         "2",
         "0",
         "0",
         "0",
         "1"
        ],
        [
         "3659",
         "Women Grey, Orange Sports Sandal",
         4.3,
         "Women",
         "Flipkart",
         "799",
         "212",
         "41",
         "123",
         "59",
         "12",
         "9",
         "9",
         "1"
        ],
        [
         "7625",
         "White casual, gym,training & Running shoes for men's Running Shoes For Men  (White)",
         4.2,
         "Men",
         "Flipkart",
         "999",
         "2430",
         "381",
         "1472",
         "397",
         "251",
         "105",
         "205",
         "0"
        ]
       ],
       "datasetInfos": [],
       "dbfsResultPath": null,
       "isJsonSchema": true,
       "metadata": {},
       "overflow": false,
       "plotOptions": {
        "customPlotOptions": {},
        "displayType": "table",
        "pivotAggregation": null,
        "pivotColumns": null,
        "xColumns": null,
        "yColumns": null
       },
       "removedWidgets": [],
       "schema": [
        {
         "metadata": "{}",
         "name": "id",
         "type": "\"string\""
        },
        {
         "metadata": "{}",
         "name": "title",
         "type": "\"string\""
        },
        {
         "metadata": "{}",
         "name": "Rating",
         "type": "\"double\""
        },
        {
         "metadata": "{}",
         "name": "maincateg",
         "type": "\"string\""
        },
        {
         "metadata": "{}",
         "name": "platform",
         "type": "\"string\""
        },
        {
         "metadata": "{}",
         "name": "actprice1",
         "type": "\"string\""
        },
        {
         "metadata": "{}",
         "name": "norating1",
         "type": "\"string\""
        },
        {
         "metadata": "{}",
         "name": "noreviews1",
         "type": "\"string\""
        },
        {
         "metadata": "{}",
         "name": "star_5f",
         "type": "\"string\""
        },
        {
         "metadata": "{}",
         "name": "star_4f",
         "type": "\"string\""
        },
        {
         "metadata": "{}",
         "name": "star_3f",
         "type": "\"string\""
        },
        {
         "metadata": "{}",
         "name": "star_2f",
         "type": "\"string\""
        },
        {
         "metadata": "{}",
         "name": "star_1f",
         "type": "\"string\""
        },
        {
         "metadata": "{}",
         "name": "fulfilled1",
         "type": "\"string\""
        }
       ],
       "type": "table"
      }
     },
     "output_type": "display_data"
    }
   ],
   "source": [
    "# Filtering the data where rating is more that 4\n",
    "high_rated_products= Flipkart_df_filled.filter(col(\"Rating\")>4)\n",
    "high_rated_products.display()\n",
    "#high_rated_products.limit(10).display()"
   ]
  },
  {
   "cell_type": "code",
   "execution_count": 0,
   "metadata": {
    "application/vnd.databricks.v1+cell": {
     "cellMetadata": {
      "byteLimit": 2048000,
      "rowLimit": 10000
     },
     "inputWidgets": {},
     "nuid": "aa707786-6406-4d40-813a-c13a8b5f7d66",
     "showTitle": false,
     "tableResultSettingsMap": {},
     "title": ""
    }
   },
   "outputs": [
    {
     "output_type": "display_data",
     "data": {
      "text/html": [
       "<style scoped>\n",
       "  .table-result-container {\n",
       "    max-height: 300px;\n",
       "    overflow: auto;\n",
       "  }\n",
       "  table, th, td {\n",
       "    border: 1px solid black;\n",
       "    border-collapse: collapse;\n",
       "  }\n",
       "  th, td {\n",
       "    padding: 5px;\n",
       "  }\n",
       "  th {\n",
       "    text-align: left;\n",
       "  }\n",
       "</style><div class='table-result-container'><table class='table-result'><thead style='background-color: white'><tr><th>maincateg</th><th>avg(Rating)</th></tr></thead><tbody><tr><td>Men</td><td>3.967410281280314</td></tr><tr><td>Women</td><td>4.041507503410653</td></tr></tbody></table></div>"
      ]
     },
     "metadata": {
      "application/vnd.databricks.v1+output": {
       "addedWidgets": {},
       "aggData": [],
       "aggError": "",
       "aggOverflow": false,
       "aggSchema": [],
       "aggSeriesLimitReached": false,
       "aggType": "",
       "arguments": {},
       "columnCustomDisplayInfos": {},
       "data": [
        [
         "Men",
         3.967410281280314
        ],
        [
         "Women",
         4.041507503410653
        ]
       ],
       "datasetInfos": [],
       "dbfsResultPath": null,
       "isJsonSchema": true,
       "metadata": {},
       "overflow": false,
       "plotOptions": {
        "customPlotOptions": {},
        "displayType": "table",
        "pivotAggregation": null,
        "pivotColumns": null,
        "xColumns": null,
        "yColumns": null
       },
       "removedWidgets": [],
       "schema": [
        {
         "metadata": "{}",
         "name": "maincateg",
         "type": "\"string\""
        },
        {
         "metadata": "{}",
         "name": "avg(Rating)",
         "type": "\"double\""
        }
       ],
       "type": "table"
      }
     },
     "output_type": "display_data"
    }
   ],
   "source": [
    "# Group the catagory and calculate the average rating\n",
    "avg_rating_by_maincateg=Flipkart_df_filled.groupBy(\"maincateg\").avg(\"Rating\")\n",
    "avg_rating_by_maincateg.display()"
   ]
  },
  {
   "cell_type": "code",
   "execution_count": 0,
   "metadata": {
    "application/vnd.databricks.v1+cell": {
     "cellMetadata": {
      "byteLimit": 2048000,
      "rowLimit": 10000
     },
     "inputWidgets": {},
     "nuid": "f915d11e-18a7-4ebb-92de-5ec4a586fd24",
     "showTitle": false,
     "tableResultSettingsMap": {},
     "title": ""
    }
   },
   "outputs": [
    {
     "output_type": "display_data",
     "data": {
      "text/html": [
       "<style scoped>\n",
       "  .table-result-container {\n",
       "    max-height: 300px;\n",
       "    overflow: auto;\n",
       "  }\n",
       "  table, th, td {\n",
       "    border: 1px solid black;\n",
       "    border-collapse: collapse;\n",
       "  }\n",
       "  th, td {\n",
       "    padding: 5px;\n",
       "  }\n",
       "  th {\n",
       "    text-align: left;\n",
       "  }\n",
       "</style><div class='table-result-container'><table class='table-result'><thead style='background-color: white'><tr><th>maincateg</th><th>sum(Rating)</th></tr></thead><tbody><tr><td>Men</td><td>8180.8000000000075</td></tr><tr><td>Women</td><td>11849.700000000035</td></tr></tbody></table></div>"
      ]
     },
     "metadata": {
      "application/vnd.databricks.v1+output": {
       "addedWidgets": {},
       "aggData": [],
       "aggError": "",
       "aggOverflow": false,
       "aggSchema": [],
       "aggSeriesLimitReached": false,
       "aggType": "",
       "arguments": {},
       "columnCustomDisplayInfos": {},
       "data": [
        [
         "Men",
         8180.8000000000075
        ],
        [
         "Women",
         11849.700000000035
        ]
       ],
       "datasetInfos": [],
       "dbfsResultPath": null,
       "isJsonSchema": true,
       "metadata": {},
       "overflow": false,
       "plotOptions": {
        "customPlotOptions": {},
        "displayType": "table",
        "pivotAggregation": null,
        "pivotColumns": null,
        "xColumns": null,
        "yColumns": null
       },
       "removedWidgets": [],
       "schema": [
        {
         "metadata": "{}",
         "name": "maincateg",
         "type": "\"string\""
        },
        {
         "metadata": "{}",
         "name": "sum(Rating)",
         "type": "\"double\""
        }
       ],
       "type": "table"
      }
     },
     "output_type": "display_data"
    }
   ],
   "source": [
    "# Total revenue by category on the basis of receving Rating.\n",
    "total_revenue_by_category= Flipkart_df_filled.groupBy(\"maincateg\").agg(sum(\"Rating\"))\n",
    "total_revenue_by_category.display()"
   ]
  },
  {
   "cell_type": "code",
   "execution_count": 0,
   "metadata": {
    "application/vnd.databricks.v1+cell": {
     "cellMetadata": {
      "byteLimit": 2048000,
      "rowLimit": 10000
     },
     "inputWidgets": {},
     "nuid": "9f4febad-42f3-448f-b69a-148f4a23b6e0",
     "showTitle": false,
     "tableResultSettingsMap": {},
     "title": ""
    }
   },
   "outputs": [],
   "source": [
    "# Save the Processed Data (Taking this Flipkart_df_filled table )\n",
    "output_table=\"Flipkart_data_analysis_table\"\n",
    "Flipkart_df_filled.write.mode(\"overwrite\").saveAsTable(output_table)"
   ]
  },
  {
   "cell_type": "code",
   "execution_count": 0,
   "metadata": {
    "application/vnd.databricks.v1+cell": {
     "cellMetadata": {
      "byteLimit": 2048000,
      "implicitDf": true,
      "rowLimit": 10000
     },
     "inputWidgets": {},
     "nuid": "f389c26f-395e-49cb-93ec-ce1052b6ed25",
     "showTitle": false,
     "tableResultSettingsMap": {},
     "title": ""
    }
   },
   "outputs": [
    {
     "output_type": "display_data",
     "data": {
      "text/html": [
       "<style scoped>\n",
       "  .table-result-container {\n",
       "    max-height: 300px;\n",
       "    overflow: auto;\n",
       "  }\n",
       "  table, th, td {\n",
       "    border: 1px solid black;\n",
       "    border-collapse: collapse;\n",
       "  }\n",
       "  th, td {\n",
       "    padding: 5px;\n",
       "  }\n",
       "  th {\n",
       "    text-align: left;\n",
       "  }\n",
       "</style><div class='table-result-container'><table class='table-result'><thead style='background-color: white'><tr><th>id</th><th>title</th><th>Rating</th><th>maincateg</th><th>platform</th><th>actprice1</th><th>norating1</th><th>noreviews1</th><th>star_5f</th><th>star_4f</th><th>star_3f</th><th>star_2f</th><th>star_1f</th><th>fulfilled1</th></tr></thead><tbody><tr><td>2242</td><td>Casuals For Men  (Blue)</td><td>3.8</td><td>Men</td><td>Flipkart</td><td>999</td><td>27928</td><td>3543</td><td>14238</td><td>4295</td><td>3457</td><td>1962</td><td>3976</td><td>1</td></tr><tr><td>20532</td><td>Women Black Flats Sandal</td><td>3.9</td><td>Women</td><td>Flipkart</td><td>499</td><td>3015</td><td>404</td><td>1458</td><td>657</td><td>397</td><td>182</td><td>321</td><td>1</td></tr><tr><td>10648</td><td>Women Gold Wedges Sandal</td><td>3.9</td><td>Women</td><td>Flipkart</td><td>999</td><td>449</td><td>52</td><td>229</td><td>70</td><td>71</td><td>33</td><td>46</td><td>1</td></tr><tr><td>20677</td><td>Men's Height Increasing High Heel Formal Party Wear Slip-on Boots Slip On For Men  (Tan)</td><td>3.9</td><td>Men</td><td>Flipkart</td><td>2999</td><td>290</td><td>40</td><td>141</td><td>51</td><td>49</td><td>17</td><td>32</td><td>1</td></tr><tr><td>12593</td><td>Loafers For Men  (Tan)</td><td>3.9</td><td>Men</td><td>Flipkart</td><td>999</td><td>2423</td><td>326</td><td>1265</td><td>414</td><td>293</td><td>143</td><td>308</td><td>0</td></tr><tr><td>11159</td><td>Canvas Shoes For Men  (Black)</td><td>3.9</td><td>Men</td><td>Flipkart</td><td>999</td><td>541</td><td>72</td><td>281</td><td>104</td><td>69</td><td>17</td><td>70</td><td>0</td></tr><tr><td>10680</td><td>Combo Pack Of 2 Casual Shoes Slip On Sneakers For Men  (Blue, Grey)</td><td>3.9</td><td>Men</td><td>Flipkart</td><td>2400</td><td>824</td><td>105</td><td>386</td><td>199</td><td>106</td><td>61</td><td>72</td><td>1</td></tr><tr><td>6433</td><td>ARYA - DIFFERENT EDGE Bellies For Women  (Purple)</td><td>4.2</td><td>Women</td><td>Flipkart</td><td>4299</td><td>166</td><td>24</td><td>94</td><td>39</td><td>12</td><td>6</td><td>15</td><td>1</td></tr><tr><td>2794</td><td>Latest Collection, Comfortable & Fashionable Bellies for Women's and Girl's Pack of 1 Bellies For Women  (Pink, Grey)</td><td>3.9</td><td>Women</td><td>Flipkart</td><td>499</td><td>1816</td><td>218</td><td>899</td><td>360</td><td>239</td><td>113</td><td>208</td><td>0</td></tr><tr><td>11579</td><td>MOCCASSIN Slip On For Men  (Black)</td><td>3.8</td><td>Men</td><td>Flipkart</td><td>2299</td><td>3066</td><td>392</td><td>1304</td><td>803</td><td>462</td><td>189</td><td>308</td><td>1</td></tr></tbody></table></div>"
      ]
     },
     "metadata": {
      "application/vnd.databricks.v1+output": {
       "addedWidgets": {},
       "aggData": [],
       "aggError": "",
       "aggOverflow": false,
       "aggSchema": [],
       "aggSeriesLimitReached": false,
       "aggType": "",
       "arguments": {},
       "columnCustomDisplayInfos": {},
       "data": [
        [
         "2242",
         "Casuals For Men  (Blue)",
         3.8,
         "Men",
         "Flipkart",
         "999",
         "27928",
         "3543",
         "14238",
         "4295",
         "3457",
         "1962",
         "3976",
         "1"
        ],
        [
         "20532",
         "Women Black Flats Sandal",
         3.9,
         "Women",
         "Flipkart",
         "499",
         "3015",
         "404",
         "1458",
         "657",
         "397",
         "182",
         "321",
         "1"
        ],
        [
         "10648",
         "Women Gold Wedges Sandal",
         3.9,
         "Women",
         "Flipkart",
         "999",
         "449",
         "52",
         "229",
         "70",
         "71",
         "33",
         "46",
         "1"
        ],
        [
         "20677",
         "Men's Height Increasing High Heel Formal Party Wear Slip-on Boots Slip On For Men  (Tan)",
         3.9,
         "Men",
         "Flipkart",
         "2999",
         "290",
         "40",
         "141",
         "51",
         "49",
         "17",
         "32",
         "1"
        ],
        [
         "12593",
         "Loafers For Men  (Tan)",
         3.9,
         "Men",
         "Flipkart",
         "999",
         "2423",
         "326",
         "1265",
         "414",
         "293",
         "143",
         "308",
         "0"
        ],
        [
         "11159",
         "Canvas Shoes For Men  (Black)",
         3.9,
         "Men",
         "Flipkart",
         "999",
         "541",
         "72",
         "281",
         "104",
         "69",
         "17",
         "70",
         "0"
        ],
        [
         "10680",
         "Combo Pack Of 2 Casual Shoes Slip On Sneakers For Men  (Blue, Grey)",
         3.9,
         "Men",
         "Flipkart",
         "2400",
         "824",
         "105",
         "386",
         "199",
         "106",
         "61",
         "72",
         "1"
        ],
        [
         "6433",
         "ARYA - DIFFERENT EDGE Bellies For Women  (Purple)",
         4.2,
         "Women",
         "Flipkart",
         "4299",
         "166",
         "24",
         "94",
         "39",
         "12",
         "6",
         "15",
         "1"
        ],
        [
         "2794",
         "Latest Collection, Comfortable & Fashionable Bellies for Women's and Girl's Pack of 1 Bellies For Women  (Pink, Grey)",
         3.9,
         "Women",
         "Flipkart",
         "499",
         "1816",
         "218",
         "899",
         "360",
         "239",
         "113",
         "208",
         "0"
        ],
        [
         "11579",
         "MOCCASSIN Slip On For Men  (Black)",
         3.8,
         "Men",
         "Flipkart",
         "2299",
         "3066",
         "392",
         "1304",
         "803",
         "462",
         "189",
         "308",
         "1"
        ]
       ],
       "datasetInfos": [],
       "dbfsResultPath": null,
       "isJsonSchema": true,
       "metadata": {},
       "overflow": false,
       "plotOptions": {
        "customPlotOptions": {},
        "displayType": "table",
        "pivotAggregation": null,
        "pivotColumns": null,
        "xColumns": null,
        "yColumns": null
       },
       "removedWidgets": [],
       "schema": [
        {
         "metadata": "{}",
         "name": "id",
         "type": "\"string\""
        },
        {
         "metadata": "{}",
         "name": "title",
         "type": "\"string\""
        },
        {
         "metadata": "{}",
         "name": "Rating",
         "type": "\"double\""
        },
        {
         "metadata": "{}",
         "name": "maincateg",
         "type": "\"string\""
        },
        {
         "metadata": "{}",
         "name": "platform",
         "type": "\"string\""
        },
        {
         "metadata": "{}",
         "name": "actprice1",
         "type": "\"string\""
        },
        {
         "metadata": "{}",
         "name": "norating1",
         "type": "\"string\""
        },
        {
         "metadata": "{}",
         "name": "noreviews1",
         "type": "\"string\""
        },
        {
         "metadata": "{}",
         "name": "star_5f",
         "type": "\"string\""
        },
        {
         "metadata": "{}",
         "name": "star_4f",
         "type": "\"string\""
        },
        {
         "metadata": "{}",
         "name": "star_3f",
         "type": "\"string\""
        },
        {
         "metadata": "{}",
         "name": "star_2f",
         "type": "\"string\""
        },
        {
         "metadata": "{}",
         "name": "star_1f",
         "type": "\"string\""
        },
        {
         "metadata": "{}",
         "name": "fulfilled1",
         "type": "\"string\""
        }
       ],
       "type": "table"
      }
     },
     "output_type": "display_data"
    }
   ],
   "source": [
    "%sql\n",
    "SELECT * FROM Flipkart_data_analysis_table LIMIT 10"
   ]
  }
 ],
 "metadata": {
  "application/vnd.databricks.v1+notebook": {
   "dashboards": [],
   "environmentMetadata": null,
   "language": "python",
   "notebookMetadata": {
    "mostRecentlyExecutedCommandWithImplicitDF": {
     "commandId": 1774107535032819,
     "dataframes": [
      "_sqldf"
     ]
    },
    "pythonIndentUnit": 2
   },
   "notebookName": "Flipkart Project",
   "widgets": {}
  }
 },
 "nbformat": 4,
 "nbformat_minor": 0
}
